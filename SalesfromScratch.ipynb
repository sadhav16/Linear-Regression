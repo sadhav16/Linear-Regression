{
 "cells": [
  {
   "cell_type": "code",
   "execution_count": 42,
   "metadata": {},
   "outputs": [],
   "source": [
    "import numpy as np\n",
    "import pandas as pd\n",
    "import sklearn"
   ]
  },
  {
   "cell_type": "code",
   "execution_count": 3,
   "metadata": {},
   "outputs": [],
   "source": [
    "data=pd.read_csv('Advertising.csv')"
   ]
  },
  {
   "cell_type": "code",
   "execution_count": 5,
   "metadata": {},
   "outputs": [
    {
     "data": {
      "text/html": [
       "<div>\n",
       "<style scoped>\n",
       "    .dataframe tbody tr th:only-of-type {\n",
       "        vertical-align: middle;\n",
       "    }\n",
       "\n",
       "    .dataframe tbody tr th {\n",
       "        vertical-align: top;\n",
       "    }\n",
       "\n",
       "    .dataframe thead th {\n",
       "        text-align: right;\n",
       "    }\n",
       "</style>\n",
       "<table border=\"1\" class=\"dataframe\">\n",
       "  <thead>\n",
       "    <tr style=\"text-align: right;\">\n",
       "      <th></th>\n",
       "      <th>Unnamed: 0</th>\n",
       "      <th>TV</th>\n",
       "      <th>Radio</th>\n",
       "      <th>Newspaper</th>\n",
       "      <th>Sales</th>\n",
       "    </tr>\n",
       "  </thead>\n",
       "  <tbody>\n",
       "    <tr>\n",
       "      <th>0</th>\n",
       "      <td>1</td>\n",
       "      <td>230.1</td>\n",
       "      <td>37.8</td>\n",
       "      <td>69.2</td>\n",
       "      <td>22.1</td>\n",
       "    </tr>\n",
       "    <tr>\n",
       "      <th>1</th>\n",
       "      <td>2</td>\n",
       "      <td>44.5</td>\n",
       "      <td>39.3</td>\n",
       "      <td>45.1</td>\n",
       "      <td>10.4</td>\n",
       "    </tr>\n",
       "    <tr>\n",
       "      <th>2</th>\n",
       "      <td>3</td>\n",
       "      <td>17.2</td>\n",
       "      <td>45.9</td>\n",
       "      <td>69.3</td>\n",
       "      <td>9.3</td>\n",
       "    </tr>\n",
       "    <tr>\n",
       "      <th>3</th>\n",
       "      <td>4</td>\n",
       "      <td>151.5</td>\n",
       "      <td>41.3</td>\n",
       "      <td>58.5</td>\n",
       "      <td>18.5</td>\n",
       "    </tr>\n",
       "    <tr>\n",
       "      <th>4</th>\n",
       "      <td>5</td>\n",
       "      <td>180.8</td>\n",
       "      <td>10.8</td>\n",
       "      <td>58.4</td>\n",
       "      <td>12.9</td>\n",
       "    </tr>\n",
       "  </tbody>\n",
       "</table>\n",
       "</div>"
      ],
      "text/plain": [
       "   Unnamed: 0     TV  Radio  Newspaper  Sales\n",
       "0           1  230.1   37.8       69.2   22.1\n",
       "1           2   44.5   39.3       45.1   10.4\n",
       "2           3   17.2   45.9       69.3    9.3\n",
       "3           4  151.5   41.3       58.5   18.5\n",
       "4           5  180.8   10.8       58.4   12.9"
      ]
     },
     "execution_count": 5,
     "metadata": {},
     "output_type": "execute_result"
    }
   ],
   "source": [
    "data.head()"
   ]
  },
  {
   "cell_type": "code",
   "execution_count": 52,
   "metadata": {},
   "outputs": [
    {
     "data": {
      "text/plain": [
       "(200, 4)"
      ]
     },
     "execution_count": 52,
     "metadata": {},
     "output_type": "execute_result"
    }
   ],
   "source": [
    "datax = data[['TV','Radio','Newspaper']].to_numpy()\n",
    "datay = data[['Sales']].to_numpy()\n",
    "\n",
    "(xr,xc)=datax.shape\n",
    "newx = np.ones(shape=(xr,xc+1))\n",
    "newx[:,1:]=datax\n",
    "newx.shape"
   ]
  },
  {
   "cell_type": "code",
   "execution_count": 53,
   "metadata": {},
   "outputs": [],
   "source": [
    "def getprediction(model,X):\n",
    "    (xr,xc)=X.shape\n",
    "    lx = np.ones(shape=(xr,xc+1))\n",
    "    lx[:,1:]=X\n",
    "    return np.dot(lx,model)\n",
    "    "
   ]
  },
  {
   "cell_type": "code",
   "execution_count": 54,
   "metadata": {},
   "outputs": [
    {
     "data": {
      "text/plain": [
       "150.2251765367862"
      ]
     },
     "execution_count": 54,
     "metadata": {},
     "output_type": "execute_result"
    }
   ],
   "source": [
    "tmodel = np.random.randn(4,1)\n",
    "pred = getprediction(tmodel,datax)\n",
    "from sklearn.metrics import mean_absolute_percentage_error,mean_absolute_error\n",
    "mean_absolute_error(pred,datay)"
   ]
  },
  {
   "cell_type": "code",
   "execution_count": 55,
   "metadata": {},
   "outputs": [],
   "source": [
    "from numpy.linalg import inv\n",
    "def getbestmodel(X,Y):\n",
    "    return np.dot( (inv(np.dot(X.T,X))) , (np.dot(X.T,Y)) )"
   ]
  },
  {
   "cell_type": "code",
   "execution_count": 57,
   "metadata": {},
   "outputs": [],
   "source": [
    "def newprediction(model,X):\n",
    "    return np.dot(X,model)"
   ]
  },
  {
   "cell_type": "code",
   "execution_count": 58,
   "metadata": {},
   "outputs": [],
   "source": [
    "bestmodel = getbestmodel(newx,datay)\n",
    "yhat = newprediction(bestmodel,newx)"
   ]
  },
  {
   "cell_type": "code",
   "execution_count": 61,
   "metadata": {},
   "outputs": [
    {
     "name": "stdout",
     "output_type": "stream",
     "text": [
      "mean abs error: 1.2520112296870705\n",
      "mean abs error perc: 0.11245010280461354\n"
     ]
    }
   ],
   "source": [
    "print(\"mean abs error:\",mean_absolute_error(yhat,datay))\n",
    "print(\"mean abs error perc:\",mean_absolute_percentage_error(yhat,datay))"
   ]
  },
  {
   "cell_type": "code",
   "execution_count": 62,
   "metadata": {},
   "outputs": [
    {
     "data": {
      "text/plain": [
       "array([[20.52397441],\n",
       "       [12.33785482],\n",
       "       [12.30767078],\n",
       "       [17.59782951],\n",
       "       [13.18867186],\n",
       "       [12.47834763],\n",
       "       [11.72975995],\n",
       "       [12.12295317],\n",
       "       [ 3.72734086],\n",
       "       [12.55084872],\n",
       "       [ 7.0322992 ],\n",
       "       [17.28512918],\n",
       "       [10.57712073],\n",
       "       [ 8.82630048],\n",
       "       [18.43436638],\n",
       "       [20.81929952],\n",
       "       [12.82365674],\n",
       "       [23.22495716],\n",
       "       [ 9.95168206],\n",
       "       [14.16607293],\n",
       "       [18.10076728],\n",
       "       [14.7405382 ],\n",
       "       [ 6.4891503 ],\n",
       "       [16.5459329 ],\n",
       "       [ 8.14651887],\n",
       "       [15.6100386 ],\n",
       "       [14.98951429],\n",
       "       [17.05167344],\n",
       "       [19.41053803],\n",
       "       [ 9.14402389],\n",
       "       [21.6339338 ],\n",
       "       [11.3460929 ],\n",
       "       [ 7.63888314],\n",
       "       [18.86426829],\n",
       "       [ 7.57483051],\n",
       "       [17.00682618],\n",
       "       [23.40590052],\n",
       "       [15.62347779],\n",
       "       [ 9.90868103],\n",
       "       [20.44761039],\n",
       "       [16.37766467],\n",
       "       [17.2959832 ],\n",
       "       [21.59580326],\n",
       "       [13.96385684],\n",
       "       [ 8.88787996],\n",
       "       [15.16152314],\n",
       "       [ 8.87338673],\n",
       "       [21.7226299 ],\n",
       "       [16.26362018],\n",
       "       [ 8.1681656 ],\n",
       "       [12.63121132],\n",
       "       [ 9.33981296],\n",
       "       [20.66297563],\n",
       "       [19.94469957],\n",
       "       [20.37443008],\n",
       "       [21.2926106 ],\n",
       "       [ 8.52771254],\n",
       "       [12.77458802],\n",
       "       [21.89805198],\n",
       "       [18.13348698],\n",
       "       [ 5.74215558],\n",
       "       [22.89067208],\n",
       "       [16.78426073],\n",
       "       [13.21069202],\n",
       "       [16.97773556],\n",
       "       [ 7.84904532],\n",
       "       [ 9.01603163],\n",
       "       [12.0370073 ],\n",
       "       [18.97657924],\n",
       "       [21.10891244],\n",
       "       [17.77949782],\n",
       "       [10.62693815],\n",
       "       [10.36684881],\n",
       "       [ 9.90298206],\n",
       "       [17.32931197],\n",
       "       [11.85832174],\n",
       "       [ 4.47758904],\n",
       "       [13.81190223],\n",
       "       [ 8.81331353],\n",
       "       [ 9.67530328],\n",
       "       [11.44592364],\n",
       "       [14.64794093],\n",
       "       [10.17840799],\n",
       "       [14.42184212],\n",
       "       [20.78136464],\n",
       "       [15.18140789],\n",
       "       [11.59870739],\n",
       "       [15.59378475],\n",
       "       [11.71127101],\n",
       "       [16.92225511],\n",
       "       [ 9.99922965],\n",
       "       [ 4.49631598],\n",
       "       [19.15639616],\n",
       "       [21.22757378],\n",
       "       [10.48212385],\n",
       "       [16.31492112],\n",
       "       [12.63571716],\n",
       "       [15.33707782],\n",
       "       [24.11860723],\n",
       "       [16.94035021],\n",
       "       [13.87595844],\n",
       "       [23.24248685],\n",
       "       [17.64409385],\n",
       "       [14.76221142],\n",
       "       [20.30110878],\n",
       "       [17.93641467],\n",
       "       [ 6.12602215],\n",
       "       [ 7.10850249],\n",
       "       [ 3.58725841],\n",
       "       [19.69293106],\n",
       "       [14.7598741 ],\n",
       "       [21.14027498],\n",
       "       [13.88060985],\n",
       "       [16.40377623],\n",
       "       [15.30509593],\n",
       "       [12.91968895],\n",
       "       [11.97874744],\n",
       "       [ 6.5707774 ],\n",
       "       [15.56609348],\n",
       "       [ 6.82006767],\n",
       "       [14.41010605],\n",
       "       [ 7.83807642],\n",
       "       [13.6264571 ],\n",
       "       [15.0827909 ],\n",
       "       [19.45441306],\n",
       "       [ 9.12734958],\n",
       "       [10.57717411],\n",
       "       [ 6.599669  ],\n",
       "       [22.25549161],\n",
       "       [ 7.88410649],\n",
       "       [10.4276871 ],\n",
       "       [15.57779819],\n",
       "       [ 8.44915012],\n",
       "       [19.26692307],\n",
       "       [11.8368039 ],\n",
       "       [14.00141385],\n",
       "       [11.45348627],\n",
       "       [20.85125198],\n",
       "       [ 9.76842795],\n",
       "       [19.67547632],\n",
       "       [ 9.48964097],\n",
       "       [18.39902932],\n",
       "       [19.24986927],\n",
       "       [ 8.76480262],\n",
       "       [10.09133403],\n",
       "       [ 9.70853872],\n",
       "       [15.29422368],\n",
       "       [23.26086103],\n",
       "       [12.26335941],\n",
       "       [ 9.8272711 ],\n",
       "       [18.36720534],\n",
       "       [10.0095377 ],\n",
       "       [16.3600003 ],\n",
       "       [18.22390132],\n",
       "       [15.50161696],\n",
       "       [ 5.3075589 ],\n",
       "       [15.38485192],\n",
       "       [10.0143112 ],\n",
       "       [10.38419866],\n",
       "       [12.39914823],\n",
       "       [14.21383298],\n",
       "       [13.55914568],\n",
       "       [14.94678206],\n",
       "       [17.35163608],\n",
       "       [11.0682946 ],\n",
       "       [14.22372138],\n",
       "       [10.82439531],\n",
       "       [13.36324677],\n",
       "       [17.1861428 ],\n",
       "       [17.9415563 ],\n",
       "       [ 7.39497997],\n",
       "       [14.35827373],\n",
       "       [ 7.60769238],\n",
       "       [11.97093887],\n",
       "       [13.74435742],\n",
       "       [24.78687031],\n",
       "       [19.9793727 ],\n",
       "       [12.1620464 ],\n",
       "       [16.01099722],\n",
       "       [12.38455495],\n",
       "       [10.5871997 ],\n",
       "       [13.92809918],\n",
       "       [ 6.55467   ],\n",
       "       [24.13310013],\n",
       "       [18.53852096],\n",
       "       [20.80301059],\n",
       "       [ 9.69137313],\n",
       "       [17.07644223],\n",
       "       [18.64430648],\n",
       "       [ 6.05162411],\n",
       "       [12.4891591 ],\n",
       "       [ 8.42401933],\n",
       "       [ 4.46622956],\n",
       "       [18.48695797],\n",
       "       [16.49530044],\n",
       "       [ 5.37034248],\n",
       "       [ 8.16531236],\n",
       "       [12.78592082],\n",
       "       [23.76732149],\n",
       "       [15.17319554]])"
      ]
     },
     "execution_count": 62,
     "metadata": {},
     "output_type": "execute_result"
    }
   ],
   "source": [
    "yhat"
   ]
  },
  {
   "cell_type": "code",
   "execution_count": 66,
   "metadata": {},
   "outputs": [
    {
     "data": {
      "text/plain": [
       "[<matplotlib.lines.Line2D at 0x14e44499750>]"
      ]
     },
     "execution_count": 66,
     "metadata": {},
     "output_type": "execute_result"
    },
    {
     "data": {
      "image/png": "[encoded data removed]",
      "text/plain": [
       "<Figure size 640x480 with 1 Axes>"
      ]
     },
     "metadata": {},
     "output_type": "display_data"
    }
   ],
   "source": [
    "import matplotlib.pyplot as plt\n",
    "plt.plot(yhat,datay)"
   ]
  },
  {
   "cell_type": "code",
   "execution_count": null,
   "metadata": {},
   "outputs": [],
   "source": []
  }
 ],
 "metadata": {
  "kernelspec": {
   "display_name": "Python 3",
   "language": "python",
   "name": "python3"
  },
  "language_info": {
   "codemirror_mode": {
    "name": "ipython",
    "version": 3
   },
   "file_extension": ".py",
   "mimetype": "text/x-python",
   "name": "python",
   "nbconvert_exporter": "python",
   "pygments_lexer": "ipython3",
   "version": "3.11.9"
  }
 },
 "nbformat": 4,
 "nbformat_minor": 2
}
